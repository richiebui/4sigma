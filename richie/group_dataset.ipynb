{
 "cells": [
  {
   "cell_type": "code",
   "execution_count": 1,
   "metadata": {
    "collapsed": false
   },
   "outputs": [
    {
     "name": "stderr",
     "output_type": "stream",
     "text": [
      "/anaconda/lib/python3.6/site-packages/ipykernel/__main__.py:8: FutureWarning: Sorting because non-concatenation axis is not aligned. A future version\n",
      "of pandas will change to not sort by default.\n",
      "\n",
      "To accept the future behavior, pass 'sort=False'.\n",
      "\n",
      "To retain the current behavior and silence the warning, pass 'sort=True'.\n",
      "\n"
     ]
    }
   ],
   "source": [
    "from preprocess import impute\n",
    "import pandas as pd\n",
    "import numpy as np\n",
    "import os\n",
    "os.environ['KMP_DUPLICATE_LIB_OK']='True'\n",
    "train = pd.read_csv('train.csv').set_index('Id')\n",
    "test = pd.read_csv('test.csv').set_index('Id')\n",
    "all_data = pd.concat([train, test])\n",
    "train_c, encodedDic = impute(all_data, False)\n",
    "onehot, encodedDic1 = impute(all_data, True)\n",
    "target = train_c['SalePrice'][:1460]\n",
    "train_len = train_c[:1460]\n",
    "test_len = train_c[1460:]\n",
    "train_oh = onehot[:1460]\n",
    "test_oh = onehot[1460:]\n",
    "train_len = train_len.drop([\"SalePrice\"], axis = 1)\n",
    "test_len = test_len.drop(['SalePrice'], axis = 1)\n",
    "train_oh = train_oh.drop([\"SalePrice\"], axis = 1)\n",
    "test_oh = test_oh.drop([\"SalePrice\"], axis = 1)\n",
    "target = train['SalePrice']"
   ]
  },
  {
   "cell_type": "code",
   "execution_count": null,
   "metadata": {
    "collapsed": false
   },
   "outputs": [],
   "source": []
  },
  {
   "cell_type": "code",
   "execution_count": null,
   "metadata": {
    "collapsed": false
   },
   "outputs": [],
   "source": []
  },
  {
   "cell_type": "code",
   "execution_count": null,
   "metadata": {
    "collapsed": false
   },
   "outputs": [],
   "source": []
  },
  {
   "cell_type": "markdown",
   "metadata": {},
   "source": [
    "# SEDUCTIVE MODELING"
   ]
  },
  {
   "cell_type": "code",
   "execution_count": 2,
   "metadata": {
    "collapsed": false
   },
   "outputs": [],
   "source": [
    "from sklearn.model_selection import KFold, cross_val_score, train_test_split\n",
    "from sklearn.metrics import mean_squared_error \n",
    "from xgboost import XGBRegressor\n",
    "from scipy import stats\n",
    "from scipy.stats import norm, skew\n",
    "from sklearn.pipeline import make_pipeline\n",
    "from sklearn.preprocessing import RobustScaler\n",
    "from sklearn.linear_model import ElasticNet\n",
    "from sklearn.model_selection import GridSearchCV # search for the best lambda\n",
    "from sklearn import linear_model"
   ]
  },
  {
   "cell_type": "markdown",
   "metadata": {},
   "source": [
    "# XGB\n",
    "    -label encoded data\n",
    "    -log(y)\n",
    "    -BoxCox(x)"
   ]
  },
  {
   "cell_type": "code",
   "execution_count": 3,
   "metadata": {
    "collapsed": false
   },
   "outputs": [],
   "source": [
    "temp_len = pd.concat([train_len, test_len])\n",
    "\n",
    "num_data = temp_len.dtypes[train_len.dtypes != 'object'].index\n",
    "skewed_data = temp_len[num_data].apply(lambda x: skew(x))\n",
    "skewed = skewed_data[abs(skewed_data) > 0.75]\n",
    "\n",
    "from scipy.special import boxcox1p\n",
    "for i in skewed.index:\n",
    "    temp_len[i] = boxcox1p(temp_len[i], 0.15)\n",
    "    \n",
    "train_lt = temp_len[:1460]\n",
    "test_lt = temp_len[1460:]\n",
    "X = train_lt\n",
    "y = np.log(target)"
   ]
  },
  {
   "cell_type": "code",
   "execution_count": null,
   "metadata": {
    "collapsed": true
   },
   "outputs": [],
   "source": []
  },
  {
   "cell_type": "code",
   "execution_count": null,
   "metadata": {
    "collapsed": false
   },
   "outputs": [],
   "source": []
  },
  {
   "cell_type": "code",
   "execution_count": 4,
   "metadata": {
    "collapsed": true
   },
   "outputs": [],
   "source": [
    "train_X, test_X, train_y, test_y = train_test_split(X, y, test_size=0.2)"
   ]
  },
  {
   "cell_type": "code",
   "execution_count": 5,
   "metadata": {
    "collapsed": true
   },
   "outputs": [],
   "source": [
    "model = XGBRegressor(colsample_bytree=0.4603, gamma=0.0468, \n",
    "                             learning_rate=0.05, max_depth=3, \n",
    "                             min_child_weight=1.7817, n_estimators=2200,\n",
    "                             reg_alpha=0.4640, reg_lambda=0.8571,\n",
    "                             subsample=0.5213, silent=1,\n",
    "                             random_state =42, nthread = -1)"
   ]
  },
  {
   "cell_type": "code",
   "execution_count": 6,
   "metadata": {
    "collapsed": false
   },
   "outputs": [],
   "source": [
    "model_xgb = model.fit(train_X, train_y)"
   ]
  },
  {
   "cell_type": "code",
   "execution_count": 7,
   "metadata": {
    "collapsed": false
   },
   "outputs": [],
   "source": [
    "y_predict = np.expm1(model.predict(train_X))"
   ]
  },
  {
   "cell_type": "code",
   "execution_count": 8,
   "metadata": {
    "collapsed": true
   },
   "outputs": [],
   "source": [
    "def rmse(predictions, targets):\n",
    "    return np.sqrt(np.mean((predictions - targets) ** 2))"
   ]
  },
  {
   "cell_type": "code",
   "execution_count": 9,
   "metadata": {
    "collapsed": false
   },
   "outputs": [
    {
     "data": {
      "text/plain": [
       "195202.02473435635"
      ]
     },
     "execution_count": 9,
     "metadata": {},
     "output_type": "execute_result"
    }
   ],
   "source": [
    "rmse(train_y, y_predict)"
   ]
  },
  {
   "cell_type": "code",
   "execution_count": 10,
   "metadata": {
    "collapsed": false
   },
   "outputs": [],
   "source": [
    "transform_xgb = np.expm1(model.predict(test_lt))\n",
    "#kaggle score: 0.12772"
   ]
  },
  {
   "cell_type": "markdown",
   "metadata": {},
   "source": [
    "sub = pd.DataFrame()\n",
    "sub['Id'] = test.index\n",
    "sub['SalePrice'] = transform_xgb\n",
    "sub.set_index('Id')\n",
    "sub.to_csv('m_xgb_transform.csv')"
   ]
  },
  {
   "cell_type": "code",
   "execution_count": 11,
   "metadata": {
    "collapsed": false
   },
   "outputs": [
    {
     "name": "stdout",
     "output_type": "stream",
     "text": [
      "{'alpha': 0.8697490026177834}\n",
      "Lowest RMSE found:  0.1555939818637338\n",
      "RMSE:  0.1380056093453742\n"
     ]
    }
   ],
   "source": [
    "from sklearn.model_selection import GridSearchCV # search for the best lambda\n",
    "from sklearn import linear_model\n",
    "\n",
    "ridge = linear_model.Ridge(normalize=True) # create a ridge regression instance\n",
    "\n",
    "# find the best alpha (lambda) for ridge\n",
    "grid_param = [{'alpha': np.logspace(-4, 2, 100)}]\n",
    "para_search_ridge = GridSearchCV(estimator=ridge, param_grid=grid_param, scoring='neg_mean_squared_error', cv=5, return_train_score=True)\n",
    "para_search_ridge.fit(X, y)\n",
    "\n",
    "print(para_search_ridge.best_params_)\n",
    "print(\"Lowest RMSE found: \", np.sqrt(np.abs(para_search_ridge.best_score_)))\n",
    "# fit best ridge equation to all train data\n",
    "best_ridge_y = para_search_ridge.best_estimator_.predict(X)\n",
    "print(\"RMSE: \", np.sqrt(np.mean((y-best_ridge_y)**2)))"
   ]
  },
  {
   "cell_type": "code",
   "execution_count": null,
   "metadata": {
    "collapsed": true
   },
   "outputs": [],
   "source": [
    "\n",
    "print(\"RMSE: \", np.sqrt(np.mean((y_log-best_ridge_y)**2)))"
   ]
  },
  {
   "cell_type": "code",
   "execution_count": null,
   "metadata": {
    "collapsed": false
   },
   "outputs": [],
   "source": [
    "ENet = make_pipeline(RobustScaler(), ElasticNet(alpha=0.0005, l1_ratio=.9, random_state=42))"
   ]
  },
  {
   "cell_type": "code",
   "execution_count": null,
   "metadata": {
    "collapsed": false
   },
   "outputs": [],
   "source": [
    "#model.fit(train_X, train_y, early_stopping_rounds=5, \n",
    "#             eval_set=[(test_X, test_y)], verbose=False)"
   ]
  },
  {
   "cell_type": "code",
   "execution_count": null,
   "metadata": {
    "collapsed": false
   },
   "outputs": [],
   "source": [
    "#prediction_test = model.predict(test_X)"
   ]
  },
  {
   "cell_type": "code",
   "execution_count": null,
   "metadata": {
    "collapsed": false
   },
   "outputs": [],
   "source": [
    "ENet.fit(train_X, train_y)"
   ]
  },
  {
   "cell_type": "code",
   "execution_count": null,
   "metadata": {
    "collapsed": false
   },
   "outputs": [],
   "source": [
    "train_enet = np.expm1(ENet.predict(test_X))"
   ]
  },
  {
   "cell_type": "code",
   "execution_count": null,
   "metadata": {
    "collapsed": false
   },
   "outputs": [],
   "source": [
    "#train_enet"
   ]
  },
  {
   "cell_type": "code",
   "execution_count": null,
   "metadata": {
    "collapsed": false
   },
   "outputs": [],
   "source": [
    "rmse(train_enet, test_y)"
   ]
  },
  {
   "cell_type": "code",
   "execution_count": null,
   "metadata": {
    "collapsed": false
   },
   "outputs": [],
   "source": [
    "test_lt"
   ]
  },
  {
   "cell_type": "code",
   "execution_count": null,
   "metadata": {
    "collapsed": false
   },
   "outputs": [],
   "source": []
  },
  {
   "cell_type": "code",
   "execution_count": null,
   "metadata": {
    "collapsed": false
   },
   "outputs": [],
   "source": []
  },
  {
   "cell_type": "code",
   "execution_count": null,
   "metadata": {
    "collapsed": false
   },
   "outputs": [],
   "source": [
    "cross_val_score(model, X, y, scoring='neg_mean_absolute_error')"
   ]
  },
  {
   "cell_type": "code",
   "execution_count": null,
   "metadata": {
    "collapsed": false
   },
   "outputs": [],
   "source": [
    "cross_val_score(ENet,X, y, scoring='neg_mean_absolute_error')"
   ]
  },
  {
   "cell_type": "code",
   "execution_count": null,
   "metadata": {
    "collapsed": false
   },
   "outputs": [],
   "source": [
    "sub = pd.DataFrame()\n",
    "sub['Id'] = test.index\n",
    "sub['SalePrice'] = transform_xgb\n",
    "sub.set_index('Id')\n",
    "sub.to_csv('m_xgb_transform.csv')"
   ]
  },
  {
   "cell_type": "code",
   "execution_count": null,
   "metadata": {
    "collapsed": true
   },
   "outputs": [],
   "source": []
  }
 ],
 "metadata": {
  "kernelspec": {
   "display_name": "Python 3",
   "language": "python",
   "name": "python3"
  },
  "language_info": {
   "codemirror_mode": {
    "name": "ipython",
    "version": 3
   },
   "file_extension": ".py",
   "mimetype": "text/x-python",
   "name": "python",
   "nbconvert_exporter": "python",
   "pygments_lexer": "ipython3",
   "version": "3.6.6"
  }
 },
 "nbformat": 4,
 "nbformat_minor": 2
}
